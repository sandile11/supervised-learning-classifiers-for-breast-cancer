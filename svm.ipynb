{
 "cells": [
  {
   "cell_type": "markdown",
   "metadata": {},
   "source": [
    "## SVM for Breast Cancer Classification\n",
    "**Mamello Maseko(fill me :)) and Sandile Shongwe(1236067)**\n"
   ]
  },
  {
   "cell_type": "code",
   "execution_count": 39,
   "metadata": {},
   "outputs": [
    {
     "name": "stdout",
     "output_type": "stream",
     "text": [
      "Exception reporting mode: Plain\n"
     ]
    }
   ],
   "source": [
    "import numpy as np\n",
    "import matplotlib.pyplot as plt\n",
    "import pandas as pd\n",
    "%matplotlib inline\n",
    "%xmode plain"
   ]
  },
  {
   "cell_type": "code",
   "execution_count": 40,
   "metadata": {},
   "outputs": [],
   "source": [
    "df = pd.read_csv('data.csv')\n",
    "df = df.loc[:, ~df.columns.str.contains('^Unnamed')] #drop unnamed column\n",
    "df_xtrain = df.drop(['id','diagnosis'], axis=1)\n",
    "x_train = df_xtrain.values\n",
    "#  Note: Makes M = 1, B=0\n",
    "df['diagnosis'] = np.unique(df['diagnosis'], return_index=True, return_inverse=True)[2]\n",
    "y_train = df['diagnosis'].values\n",
    "x_train, y_train;"
   ]
  },
  {
   "cell_type": "code",
   "execution_count": 41,
   "metadata": {},
   "outputs": [],
   "source": [
    "length = len(x_train)\n",
    "x_test = x_train[int(np.floor(length*0.7)+1): length  , :]\n",
    "y_test = y_train[int(np.floor(length*0.7)+1): length]\n",
    "x_train = x_train[0:int(np.floor(length*0.7))+1, :]\n",
    "y_train = y_train[0:int(np.floor(length*0.7))+1]\n",
    "y_train[y_train == 0] = -1;\n",
    "y_test[y_test == 0] = -1;"
   ]
  },
  {
   "cell_type": "code",
   "execution_count": 42,
   "metadata": {},
   "outputs": [],
   "source": [
    "def SVM(X, Y, lam, T):\n",
    "    w = np.zeros(X.shape[1])\n",
    "    w_prev = np.ones(X.shape[1])\n",
    "    epochs = 10\n",
    "    for t in range(1, T):\n",
    "        i = int(np.random.uniform(0, X.shape[0],1))\n",
    "        x = X[i,:]\n",
    "        y = Y[i]\n",
    "        eta = 1/(lam*t)\n",
    "        if y*np.dot(x,w) < 1:\n",
    "            w = (1-eta*lam)*w + eta*y*x\n",
    "        if y*np.dot(x,w) >=  1:\n",
    "            w = (1-eta*lam)*w     \n",
    "    return w"
   ]
  },
  {
   "cell_type": "code",
   "execution_count": 43,
   "metadata": {},
   "outputs": [],
   "source": [
    "def predict(x, w):\n",
    "    if np.dot(x,w) > 0:\n",
    "        return 1\n",
    "    else:\n",
    "        return -1"
   ]
  },
  {
   "cell_type": "code",
   "execution_count": 44,
   "metadata": {},
   "outputs": [],
   "source": [
    "w = SVM(x_train, y_train, 0.00001, 15000)"
   ]
  },
  {
   "cell_type": "code",
   "execution_count": 45,
   "metadata": {},
   "outputs": [],
   "source": [
    "def  accuracy(w, x_test, y_test):\n",
    "    predict_vals  =[]\n",
    "    for i in x_test:\n",
    "        predict_vals.append(predict(i,w))\n",
    "    \n",
    "    acc = np.sum(predict_vals == y_test*1.0)/y_test.shape[0];\n",
    "    return acc"
   ]
  },
  {
   "cell_type": "code",
   "execution_count": 46,
   "metadata": {},
   "outputs": [
    {
     "data": {
      "text/plain": [
       "0.9411764705882353"
      ]
     },
     "execution_count": 46,
     "metadata": {},
     "output_type": "execute_result"
    }
   ],
   "source": [
    "accuracy(w, x_test, y_test)"
   ]
  },
  {
   "cell_type": "code",
   "execution_count": null,
   "metadata": {},
   "outputs": [],
   "source": []
  }
 ],
 "metadata": {
  "kernelspec": {
   "display_name": "Python 3",
   "language": "python",
   "name": "python3"
  },
  "language_info": {
   "codemirror_mode": {
    "name": "ipython",
    "version": 3
   },
   "file_extension": ".py",
   "mimetype": "text/x-python",
   "name": "python",
   "nbconvert_exporter": "python",
   "pygments_lexer": "ipython3",
   "version": "3.6.4"
  }
 },
 "nbformat": 4,
 "nbformat_minor": 2
}
