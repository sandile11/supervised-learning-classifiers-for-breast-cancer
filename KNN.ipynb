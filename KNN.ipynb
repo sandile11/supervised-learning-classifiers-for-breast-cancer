{
 "cells": [
  {
   "cell_type": "markdown",
   "metadata": {},
   "source": [
    "## KNN implementation for Breast Cancer Classification\n",
    "**Mamello Maseko(fill me :)) and Sandile Shongwe(1236067)**"
   ]
  },
  {
   "cell_type": "code",
   "execution_count": 1,
   "metadata": {},
   "outputs": [
    {
     "name": "stdout",
     "output_type": "stream",
     "text": [
      "Exception reporting mode: Plain\n"
     ]
    }
   ],
   "source": [
    "import pandas as pd\n",
    "import numpy as np\n",
    "from sklearn.preprocessing import normalize\n",
    "%xmode plain"
   ]
  },
  {
   "cell_type": "code",
   "execution_count": 2,
   "metadata": {},
   "outputs": [],
   "source": [
    "df = pd.read_csv('data.csv')\n",
    "df = df.loc[:, ~df.columns.str.contains('^Unnamed')] #drop unnamed column\n",
    "df_xtrain = df.drop(['id','diagnosis'], axis=1)\n",
    "x_train = df_xtrain.values\n",
    "#  Note: Makes M = 1, B=0\n",
    "df['diagnosis'] = np.unique(df['diagnosis'], return_index=True, return_inverse=True)[2]\n",
    "y_train = df['diagnosis'].values\n",
    "x_train, y_train;"
   ]
  },
  {
   "cell_type": "code",
   "execution_count": 3,
   "metadata": {},
   "outputs": [],
   "source": [
    "# #normalizing the data\n",
    "# x_train = normalize(x_train, norm='l1', axis=1)\n",
    "# print(x_train[0])\n",
    "\n",
    "# mean = x_train.mean(axis=1)\n",
    "# std = x_train.std(axis = 1)\n",
    "# x_train = (x_train-mean[:,np.newaxis]) / std[:, np.newaxis]\n",
    "#both normalization techniques seem to lower accuracy of the classifier"
   ]
  },
  {
   "cell_type": "code",
   "execution_count": 4,
   "metadata": {},
   "outputs": [],
   "source": [
    "#splitting data set into training and testing sets using a 70 - 30 split  \n",
    "length = len(x_train)\n",
    "x_test = x_train[int(np.floor(length*0.7)+1): length  , :]\n",
    "y_test = y_train[int(np.floor(length*0.7)+1): length]\n",
    "x_train = x_train[0:int(np.floor(length*0.7))+1, :]\n",
    "y_train = y_train[0:int(np.floor(length*0.7))+1]\n",
    "y_train[y_train == 0] = -1;\n",
    "y_test[y_test == 0] = -1;"
   ]
  },
  {
   "cell_type": "code",
   "execution_count": 5,
   "metadata": {},
   "outputs": [],
   "source": [
    "##KNN using Euclidean distance\n",
    "def KNN_E(x_train, y_train, query_point, K):\n",
    "    dist = np.sqrt(np.sum((x_train - query_point)**2, axis = 1))\n",
    "    idx = np.argsort(dist)\n",
    "    s = np.sum(y_train[idx[np.arange(K)]])\n",
    "    if(s > 0):\n",
    "        return 1\n",
    "    else:\n",
    "        return -1\n",
    "\n",
    "def KNN_M(x_train, y_train, query_point, K):\n",
    "    dist = np.abs(np.sum((x_train - query_point), axis = 1))\n",
    "    idx = np.argsort(dist)\n",
    "    s = np.sum(y_train[idx[np.arange(K)]])\n",
    "    if(s > 0.0):\n",
    "        return 1\n",
    "    else:\n",
    "        return -1\n",
    "# KNN training using Euclidean Distance    \n",
    "def KNN_Elearn(x_train, y_train, x_test, y_test):\n",
    "    error = 100000000\n",
    "    min_k = 1000\n",
    "    for K in range(1, 250):\n",
    "\n",
    "        tmp = error\n",
    "        diff_error = KNN_error_e(K, x_train, y_train, x_train, y_train) -  KNN_error_e(K, x_train, y_train,x_test, y_test)\n",
    "        error = min(error, abs(diff_error))\n",
    "        if tmp != error:\n",
    "            min_k = K\n",
    "\n",
    "    return min_k\n",
    "\n",
    "def KNN_error_e(K, x_train, y_train, x_query, y_query):\n",
    "    h = np.zeros((x_query.shape[0]))\n",
    "    for i in range(x_query.shape[0]):\n",
    "        h[i] = KNN_E(x_train, y_train,  x_query[i,:], K)\n",
    "    e = np.sum(h != y_query*1.0)/(y_query.shape[0]*1.0)\n",
    "    return e\n",
    "# KNN training using Manhattan Distance\n",
    "def KNN_Mlearn(x_train, y_train, x_test, y_test):\n",
    "    error = 100000000\n",
    "    min_k = 1000\n",
    "    for K in range(1, 250):\n",
    "\n",
    "        tmp = error\n",
    "        diff_error = KNN_error_m(K, x_train, y_train, x_train, y_train) -  KNN_error_m(K, x_train, y_train,x_test, y_test)\n",
    "        error = min(error, abs(diff_error))\n",
    "        if tmp != error:\n",
    "            min_k = K\n",
    "\n",
    "    return min_k\n",
    "def KNN_error_m(K, x_train, y_train, x_query, y_query):\n",
    "    h = np.zeros((x_query.shape[0]))\n",
    "    for i in range(x_query.shape[0]):\n",
    "        h[i] = KNN_M(x_train, y_train,  x_query[i,:], K)\n",
    "    e = np.sum(h != y_query*1.0)/(y_query.shape[0]*1.0)\n",
    "    return e\n"
   ]
  },
  {
   "cell_type": "code",
   "execution_count": 6,
   "metadata": {},
   "outputs": [],
   "source": [
    "opt_k_e = KNN_Elearn(x_train, y_train, x_test, y_test)\n",
    "opt_k_m = KNN_Mlearn(x_train, y_train, x_test, y_test)"
   ]
  },
  {
   "cell_type": "code",
   "execution_count": 7,
   "metadata": {},
   "outputs": [],
   "source": [
    "out_ye = [KNN_E(x_train, y_train,  x_test[i], opt_k_e) for i in range(170)]\n",
    "out_ym = [KNN_E(x_train, y_train,  x_test[i], opt_k_m) for i in range(170)]"
   ]
  },
  {
   "cell_type": "code",
   "execution_count": 8,
   "metadata": {},
   "outputs": [
    {
     "name": "stdout",
     "output_type": "stream",
     "text": [
      "The accuracy using Euclidean Distance: 94.12\n",
      "The accuracy using Manhattan Distance: 95.29\n"
     ]
    }
   ],
   "source": [
    "acc = np.sum(out_ye == y_test*1.0)/y_test.shape[0];\n",
    "print('The accuracy using Euclidean Distance: {:.2f}'.format(acc*100))\n",
    "acc = np.sum(out_ym == y_test*1.0)/y_test.shape[0];\n",
    "print('The accuracy using Manhattan Distance: {:.2f}'.format(acc*100))"
   ]
  },
  {
   "cell_type": "code",
   "execution_count": null,
   "metadata": {},
   "outputs": [],
   "source": []
  },
  {
   "cell_type": "code",
   "execution_count": null,
   "metadata": {},
   "outputs": [],
   "source": []
  }
 ],
 "metadata": {
  "kernelspec": {
   "display_name": "Python 3",
   "language": "python",
   "name": "python3"
  },
  "language_info": {
   "codemirror_mode": {
    "name": "ipython",
    "version": 3
   },
   "file_extension": ".py",
   "mimetype": "text/x-python",
   "name": "python",
   "nbconvert_exporter": "python",
   "pygments_lexer": "ipython3",
   "version": "3.6.4"
  }
 },
 "nbformat": 4,
 "nbformat_minor": 2
}
